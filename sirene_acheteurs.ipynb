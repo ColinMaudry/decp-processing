{
 "cells": [
  {
   "cell_type": "code",
   "execution_count": null,
   "metadata": {},
   "outputs": [],
   "source": [
    "import pandas as pd"
   ]
  },
  {
   "cell_type": "code",
   "execution_count": null,
   "metadata": {},
   "outputs": [],
   "source": [
    "# Extraction des SIRET des DECP\n",
    "decp_acheteurs_df = pd.read_parquet(\"dist/decp.parquet\", columns=[\"acheteur.id\"])\n",
    "decp_acheteurs_df = decp_acheteurs_df.drop_duplicates().loc[\n",
    "    decp_acheteurs_df[\"acheteur.id\"] != \"\"\n",
    "]\n",
    "decp_acheteurs_df.index.size"
   ]
  },
  {
   "cell_type": "code",
   "execution_count": null,
   "metadata": {},
   "outputs": [],
   "source": [
    "etablissement_df_chunked = pd.read_csv(\n",
    "    \"data/StockEtablissement_utf8_geo.csv.gz\",\n",
    "    chunksize=(1000000),\n",
    "    dtype=\"object\",\n",
    "    index_col=None,\n",
    "    usecols=[\n",
    "        \"siret\",\n",
    "        \"siren\",\n",
    "        # \"denominationUsuelleEtablissement\", vide\n",
    "        \"enseigne1Etablissement\",\n",
    "    ],\n",
    ")\n",
    "\n",
    "merged_chunks_list = []\n",
    "\n",
    "with etablissement_df_chunked as reader:\n",
    "    for df_chunk in reader:\n",
    "        merge = pd.merge(\n",
    "            decp_acheteurs_df,\n",
    "            df_chunk,\n",
    "            how=\"inner\",\n",
    "            left_on=\"acheteur.id\",\n",
    "            right_on=\"siret\",\n",
    "        )\n",
    "        if merge.index.size > 0:\n",
    "            merged_chunks_list.append(merge)\n",
    "\n",
    "decp_acheteurs_df = pd.concat(merged_chunks_list).drop(columns=[\"siret\"])\n",
    "\n",
    "del etablissement_df_chunked, df_chunk"
   ]
  },
  {
   "cell_type": "code",
   "execution_count": null,
   "metadata": {},
   "outputs": [],
   "source": [
    "# Récupération des données SIREN\n",
    "# Possibilité d'utiliser les URL sources en prod au lieu d'un fichier local\n",
    "\n",
    "unite_legale_df_chunked = pd.read_csv(\n",
    "    \"./data/StockUniteLegale_utf8.zip\",\n",
    "    index_col=None,\n",
    "    dtype=\"object\",\n",
    "    sep=\",\",\n",
    "    chunksize=1000000,\n",
    "    usecols=[\n",
    "        \"siren\",\n",
    "        \"denominationUniteLegale\",\n",
    "        # \"sigleUniteLegale\" trop variable, parfois long\n",
    "    ],\n",
    ")\n",
    "\n",
    "merged_chunks_list = []\n",
    "\n",
    "with unite_legale_df_chunked as reader:\n",
    "    for df_chunk in reader:\n",
    "        merge = pd.merge(decp_acheteurs_df, df_chunk, how=\"inner\", on=\"siren\")\n",
    "        if not merge.empty and merge.notnull().any().any() and len(merge) >= 1:\n",
    "            merged_chunks_list.append(merge)\n",
    "del unite_legale_df_chunked, df_chunk\n",
    "\n",
    "decp_acheteurs_df = pd.concat(merged_chunks_list)\n",
    "\n",
    "del merged_chunks_list"
   ]
  },
  {
   "cell_type": "code",
   "execution_count": null,
   "metadata": {},
   "outputs": [],
   "source": [
    "# Construction du champ acheteur.nom\n",
    "\n",
    "from numpy import NaN\n",
    "\n",
    "\n",
    "def construct_nom(row):\n",
    "    if row[\"enseigne1Etablissement\"] is NaN:\n",
    "        return row[\"denominationUniteLegale\"]\n",
    "    else:\n",
    "        return f'{row[\"denominationUniteLegale\"]} - {row[\"enseigne1Etablissement\"]}'\n",
    "\n",
    "\n",
    "decp_acheteurs_df[\"acheteur.nom\"] = decp_acheteurs_df.apply(construct_nom, axis=1)"
   ]
  },
  {
   "cell_type": "code",
   "execution_count": null,
   "metadata": {},
   "outputs": [],
   "source": [
    "final_columns = [\"acheteur.id\", \"acheteur.nom\"]\n",
    "\n",
    "decp_df = pd.read_parquet(\"dist/decp.parquet\").drop(columns=[\"acheteur.nom\"])\n",
    "decp_df = pd.merge(\n",
    "    decp_df,\n",
    "    decp_acheteurs_df[final_columns],\n",
    "    on=\"acheteur.id\",\n",
    "    how=\"left\",\n",
    ")"
   ]
  },
  {
   "cell_type": "code",
   "execution_count": null,
   "metadata": {},
   "outputs": [],
   "source": [
    "# Enregistrement\n",
    "decp_df.to_csv(\"data/decp.csv\", index=None)\n",
    "decp_df.to_parquet(\"data/decp.parquet\", index=None)"
   ]
  }
 ],
 "metadata": {
  "kernelspec": {
   "display_name": "decp-airflow-UlwaW0Oi",
   "language": "python",
   "name": "python3"
  },
  "language_info": {
   "codemirror_mode": {
    "name": "ipython",
    "version": 3
   },
   "file_extension": ".py",
   "mimetype": "text/x-python",
   "name": "python",
   "nbconvert_exporter": "python",
   "pygments_lexer": "ipython3",
   "version": "3.10.12"
  }
 },
 "nbformat": 4,
 "nbformat_minor": 2
}
