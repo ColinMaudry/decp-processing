{
 "cells": [
  {
   "cell_type": "code",
   "execution_count": 1,
   "metadata": {},
   "outputs": [],
   "source": [
    "import pandas as pd"
   ]
  },
  {
   "cell_type": "code",
   "execution_count": null,
   "metadata": {},
   "outputs": [],
   "source": [
    "\n",
    "# Extraction des SIRET des DECP\n",
    "decp_titulaires_sirets_df = pd.read_parquet(\"dist/decp.parquet\" , columns=['titulaire.id', 'titulaire.typeIdentifiant'])\n",
    "\n",
    "decp_titulaires_sirets_df = decp_titulaires_sirets_df[decp_titulaires_sirets_df['titulaire.typeIdentifiant'] == 'SIRET']\n",
    "decp_titulaires_sirets_df = decp_titulaires_sirets_df.drop_duplicates()\n",
    "decp_titulaires_sirets_df.index.size"
   ]
  },
  {
   "cell_type": "code",
   "execution_count": null,
   "metadata": {},
   "outputs": [],
   "source": [
    "\n",
    "# Récupération des données SIRET titulaires\n",
    "dtypes_etablissements={\n",
    "    'siret': 'object',\n",
    "    'siren': 'object',\n",
    "    'longitude': 'float',\n",
    "    'latitude': 'float',\n",
    "    'activitePrincipaleEtablissement': 'object',\n",
    "    'codeCommuneEtablissement': 'object',\n",
    "    'etatAdministratifEtablissement': 'category',\n",
    "\n",
    "}\n",
    "etablissement_df_chunked = pd.read_csv('data/StockEtablissement_utf8_geo.csv.gz', chunksize=(500000), dtype=dtypes_etablissements, index_col=None, \n",
    "                               usecols=['siret', 'siren', 'longitude', 'latitude', 'activitePrincipaleEtablissement', 'codeCommuneEtablissement',\n",
    "                                        'etatAdministratifEtablissement'])\n",
    "\n",
    "merged_chunks_list = []\n",
    "\n",
    "# 6 min 20 en gardant tous les merges, 10 000 chunks. Resultat 38M rows!\n",
    "# 6 min 27 avec inner merge et en ne gardant que les merge non vides\n",
    "# 4 min 04 avec 200 000 chunks\n",
    "# 3 min 27 avec 500 000 chunks\n",
    "# 3 min 05 avec 1M chunks\n",
    "\n",
    "with etablissement_df_chunked as reader:\n",
    "    for df_chunk in reader:\n",
    "        merge = pd.merge(decp_titulaires_sirets_df, df_chunk, how='inner', left_on='titulaire.id', right_on='siret', )\n",
    "        if merge.index.size > 0:\n",
    "            merged_chunks_list.append(merge)\n",
    "\n",
    "decp_titulaires_sirets_df = pd.concat(merged_chunks_list).drop(columns=['siret'])\n",
    "\n",
    "del etablissement_df_chunked, df_chunk\n",
    "\n",
    "decp_titulaires_sirets_df\n",
    "\n"
   ]
  },
  {
   "cell_type": "code",
   "execution_count": null,
   "metadata": {},
   "outputs": [],
   "source": [
    "\n",
    "# Récupération des données SIREN\n",
    "# Possibilité d'utiliser les URL sources en prod au lieu d'un fichier local\n",
    "\n",
    "dtypes_uniteLegales = {\n",
    "    'siren': 'object',\n",
    "    'categorieEntreprise': 'object', # doit être object, car il y a des NaN\n",
    "    'etatAdministratifUniteLegale': 'category', \n",
    "    'economieSocialeSolidaireUniteLegale': 'object', # doit être object, car il y a des NaN\n",
    "    'categorieJuridiqueUniteLegale': 'object', # object plutôt que catégorie pour faire des modifications plus tard\n",
    "}\n",
    "unite_legale_df_chunked = pd.read_csv('./data/StockUniteLegale_utf8.zip', index_col=None, dtype=dtypes_uniteLegales, sep=\",\", chunksize=500000,\n",
    "                              usecols=['siren', 'categorieEntreprise', 'etatAdministratifUniteLegale',\n",
    "                                      'economieSocialeSolidaireUniteLegale', 'categorieJuridiqueUniteLegale'])\n",
    "\n",
    "merged_chunks_list = []\n",
    "\n",
    "with unite_legale_df_chunked as reader:\n",
    "    for df_chunk in reader:\n",
    "        merge = pd.merge(decp_titulaires_sirets_df, df_chunk, how='inner', on='siren')\n",
    "        if not merge.empty and merge.notnull().any().any() and len(merge) >= 1:\n",
    "            merged_chunks_list.append(merge)\n",
    "del unite_legale_df_chunked, df_chunk\n",
    "\n",
    "decp_titulaires_sirets_df = pd.concat(merged_chunks_list)\n",
    "\n",
    "del merged_chunks_list "
   ]
  },
  {
   "cell_type": "code",
   "execution_count": null,
   "metadata": {},
   "outputs": [],
   "source": [
    "# Raccourcissement du code commune\n",
    "decp_titulaires_sirets_df['departement'] = decp_titulaires_sirets_df['codeCommuneEtablissement'].str[:2]\n",
    "decp_titulaires_sirets_df = decp_titulaires_sirets_df.drop(columns=['codeCommuneEtablissement'])\n",
    "\n",
    "# # Raccourcissement de l'activité principale\n",
    "# pas sûr de pourquoi je voulais raccourcir le code NAF/APE. Pour récupérérer des libellés ?\n",
    "# decp_titulaires_sirets_df['activitePrincipaleEtablissement'] = decp_titulaires_sirets_df['activitePrincipaleEtablissement'].str[:-3]\n",
    "\n",
    "# Correction des données ESS et état\n",
    "decp_titulaires_sirets_df['etatAdministratifUniteLegale'] = decp_titulaires_sirets_df['etatAdministratifUniteLegale'].cat.rename_categories({'A': 'Active', 'C': 'Cessée'})\n",
    "decp_titulaires_sirets_df['economieSocialeSolidaireUniteLegale'] = decp_titulaires_sirets_df['economieSocialeSolidaireUniteLegale'].replace({'O': 'Oui', 'N': 'Non'})\n"
   ]
  },
  {
   "cell_type": "code",
   "execution_count": null,
   "metadata": {},
   "outputs": [],
   "source": [
    "\n",
    "# Récupération et raccourcissement des categories juridiques du fichier SIREN\n",
    "decp_titulaires_sirets_df['categorieJuridiqueUniteLegale'] = decp_titulaires_sirets_df['categorieJuridiqueUniteLegale'].astype(str).str[:2]\n",
    "\n",
    "# Récupération des libellés des catégories juridiques\n",
    "cj_df = pd.read_csv('data/cj.csv', index_col=None, dtype=\"object\")\n",
    "decp_titulaires_sirets_df = pd.merge(decp_titulaires_sirets_df, cj_df, how='left', left_on='categorieJuridiqueUniteLegale', right_on='Code')\n",
    "decp_titulaires_sirets_df['categorieJuridique'] = decp_titulaires_sirets_df['Libellé']\n",
    "decp_titulaires_sirets_df = decp_titulaires_sirets_df.drop(columns=['Code', 'categorieJuridiqueUniteLegale', 'Libellé'])\n",
    "decp_titulaires_sirets_df"
   ]
  },
  {
   "cell_type": "code",
   "execution_count": null,
   "metadata": {},
   "outputs": [],
   "source": [
    "# Renommage des colonnes\n",
    "\n",
    "renaming = {\n",
    "    \"activitePrincipaleEtablissement\": \"codeAPE\",\n",
    "    \"etatAdministratifUniteLegale\": \"etatEntreprise\",\n",
    "    \"etatAdministratifEtablissement\": \"etatEtablissement\",\n",
    "}\n",
    "\n",
    "decp_titulaires_sirets_df = decp_titulaires_sirets_df.rename(columns=renaming)\n",
    "\n",
    "\n",
    "# Jointure avec les données brutes\n",
    "\n",
    "final_columns = [\n",
    "    \"id\",\n",
    "    \"uid\",\n",
    "    \"acheteur.id\",\n",
    "    \"acheteur.nom\",\n",
    "    \"nature\",\n",
    "    \"objet\",\n",
    "    \"codeCPV\",\n",
    "    \"lieuExecution.code\",\n",
    "    \"lieuExecution.typeCode\",\n",
    "    \"lieuExecution.nom\",\n",
    "    \"dureeMois\",\n",
    "    \"dateNotification\",\n",
    "    \"montant\",\n",
    "    \"titulaire.id\",\n",
    "    \"titulaire.typeIdentifiant\",\n",
    "    \"titulaire.denominationSociale\",\n",
    "    \"codeAPE\",\n",
    "    \"departement\",\n",
    "    \"categorieEntreprise\", # plutôt que categorie\n",
    "    \"categorieJuridique\", # libellé\n",
    "     #\"categorieJuridiqueLibelle1\",\n",
    "    # \"categorieJuridiqueLibelle2\",\n",
    "    \"etatEtablissement\",\n",
    "    \"etatEntreprise\",\n",
    "    \"longitude\",\n",
    "    \"latitude\",\n",
    "    \"donneesActuelles\",\n",
    "    \"anomalies\"\n",
    "]\n",
    "\n",
    "decp_df = pd.read_parquet(\"dist/decp.parquet\")\n",
    "decp_titulaires_df = pd.merge(decp_df, decp_titulaires_sirets_df, on=[\"titulaire.id\", \"titulaire.typeIdentifiant\"], how=\"left\")\n",
    "decp_titulaires_df = decp_titulaires_df[final_columns]\n",
    "del decp_df, decp_titulaires_sirets_df"
   ]
  },
  {
   "cell_type": "code",
   "execution_count": 10,
   "metadata": {},
   "outputs": [],
   "source": [
    "# Enregistrement\n",
    "\n",
    "decp_titulaires_df.to_csv('data/decp-titulaires.csv', index=None)\n",
    "decp_titulaires_df.to_parquet('data/decp-titulaires.parquet', index=None)"
   ]
  },
  {
   "cell_type": "code",
   "execution_count": 12,
   "metadata": {},
   "outputs": [
    {
     "data": {
      "text/plain": [
       "array(['', '1-DAP-SDM', 'Commune de Castelmaurou', ...,\n",
       "       'Commune de Barby', \"SYNDICAT DES EAUX DE L'EST DU NOYONNAIS\",\n",
       "       'COM COM Pays du Mont-Blanc BUDGET PRIN'], dtype=object)"
      ]
     },
     "execution_count": 12,
     "metadata": {},
     "output_type": "execute_result"
    }
   ],
   "source": []
  }
 ],
 "metadata": {
  "kernelspec": {
   "display_name": "decp-airflow-UlwaW0Oi",
   "language": "python",
   "name": "python3"
  },
  "language_info": {
   "codemirror_mode": {
    "name": "ipython",
    "version": 3
   },
   "file_extension": ".py",
   "mimetype": "text/x-python",
   "name": "python",
   "nbconvert_exporter": "python",
   "pygments_lexer": "ipython3",
   "version": "3.11.8"
  }
 },
 "nbformat": 4,
 "nbformat_minor": 2
}
