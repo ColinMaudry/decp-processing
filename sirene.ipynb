{
 "cells": [
  {
   "cell_type": "code",
   "execution_count": null,
   "metadata": {},
   "outputs": [],
   "source": [
    "import pandas as pd\n",
    "from gc import collect as gc_collect"
   ]
  },
  {
   "cell_type": "code",
   "execution_count": null,
   "metadata": {},
   "outputs": [],
   "source": [
    "\n",
    "# Extraction des SIRET des DECP\n",
    "decp_sirets_df = pd.read_csv(\"dist/decp.csv\", dtype=\"object\", index_col=None, \n",
    "                      usecols=['titulaire.id', 'titulaire.typeIdentifiant'])\n",
    "\n",
    "decp_sirets_df = decp_sirets_df[decp_sirets_df['titulaire.typeIdentifiant'] == 'SIRET']\n",
    "decp_sirets_df = decp_sirets_df.drop_duplicates()\n",
    "decp_sirets_df.index.size"
   ]
  },
  {
   "cell_type": "code",
   "execution_count": null,
   "metadata": {},
   "outputs": [],
   "source": [
    "\n",
    "# Récupération des données SIRET\n",
    "dtypes_etablissements={\n",
    "    'siret': 'object',\n",
    "    'siren': 'object',\n",
    "    'longitude': 'float',\n",
    "    'latitude': 'float',\n",
    "    'activitePrincipaleEtablissement': 'object',\n",
    "    'codeCommuneEtablissement': 'object'\n",
    "}\n",
    "etablissement_df_chunked = pd.read_csv('data/StockEtablissement_utf8_geo.csv.gz', chunksize=(500000), dtype=dtypes_etablissements, index_col=None, \n",
    "                               usecols=['siret', 'siren', 'longitude', 'latitude', 'activitePrincipaleEtablissement', 'codeCommuneEtablissement'])\n",
    "\n",
    "merged_chunks_list = []\n",
    "\n",
    "# 6 min 20 en gardant tous les merges, 10 000 chunks. Resultat 38M rows!\n",
    "# 6 min 27 avec inner merge et en ne gardant que les merge non vides\n",
    "# 4 min 04 avec 200 000 chunks\n",
    "# 3 min 27 avec 500 000 chunks\n",
    "# 3 min 05 avec 1M chunks\n",
    "\n",
    "with etablissement_df_chunked as reader:\n",
    "    for df_chunk in reader:\n",
    "        merge = pd.merge(decp_sirets_df, df_chunk, how='inner', left_on='titulaire.id', right_on='siret', )\n",
    "        if merge.index.size > 0:\n",
    "            merged_chunks_list.append(merge)\n",
    "\n",
    "# TODO: attention, je dois faire gaffe à distinger df des titulaires avec sirets et df avec toutes les données DECP\n",
    "\n",
    "decp_sirets_df = pd.concat(merged_chunks_list).drop(columns=['siret'])\n",
    "decp_sirets_df"
   ]
  },
  {
   "cell_type": "code",
   "execution_count": null,
   "metadata": {},
   "outputs": [],
   "source": [
    "\n",
    "# Récupération des données SIREN\n",
    "# Possibilité d'utiliser les URL sources en prod au lieu d'un fichier local\n",
    "\n",
    "dtypes_uniteLegales = {\n",
    "    'siren': 'object',\n",
    "    'categorieEntreprise': 'category',\n",
    "    'etatAdministratifUniteLegale': 'category',\n",
    "    'economieSocialeSolidaireUniteLegale': 'category',\n",
    "    'categorieJuridiqueUniteLegale': 'category'\n",
    "}\n",
    "unite_legale_df_chunked = pd.read_csv('./data/StockUniteLegale_utf8.zip', index_col=None, dtype=dtypes_uniteLegales, sep=\",\", chunksize=500000,\n",
    "                              usecols=['siren', 'categorieEntreprise', 'etatAdministratifUniteLegale',\n",
    "                                      'economieSocialeSolidaireUniteLegale', 'categorieJuridiqueUniteLegale'])\n",
    "\n",
    "\n",
    "with unite_legale_df_chunked as reader:\n",
    "    for df_chunk in reader:\n",
    "        merge = pd.merge(decp_sirets_df, df_chunk, how='inner', left_on='siren', right_on='siren')\n",
    "        if merge.index.size > 0:\n",
    "            merged_chunks_list.append(merge)\n",
    "del unite_legale_df_chunked\n",
    "\n",
    "decp_sirets_df = pd.concat(merged_chunks_list).drop(columns=['siret'])\n",
    "\n",
    "\n",
    "decp_sirets_df = decp_sirets_df.drop(columns=['siren'])\n",
    "\n"
   ]
  },
  {
   "cell_type": "code",
   "execution_count": null,
   "metadata": {},
   "outputs": [],
   "source": [
    "\n",
    "\n",
    "# Raccourcissement du code commune\n",
    "decp_sirets_df['departement'] = decp_sirets_df['codeCommuneEtablissement'].str[:2]\n",
    "decp_sirets_df = decp_sirets_df.drop(columns=['codeCommuneEtablissement'])\n",
    "\n",
    "# Raccourcissement de l'activité principale\n",
    "# TODO: à vérifier\n",
    "decp_sirets_df['activitePrincipaleEtablissement'] = decp_sirets_df['activitePrincipaleEtablissement'].str[:-3]\n",
    "\n",
    "# Correction des données ESS et état\n",
    "decp_sirets_df['etatAdministratifUniteLegale'] = decp_sirets_df['etatAdministratifUniteLegale'].replace({'A': 'Active', 'C': 'Cessée'})\n",
    "decp_sirets_df['economieSocialeSolidaireUniteLegale'] = decp_sirets_df['economieSocialeSolidaireUniteLegale'].replace({'O': 'Oui', 'N': 'Non'})\n"
   ]
  },
  {
   "cell_type": "code",
   "execution_count": null,
   "metadata": {},
   "outputs": [],
   "source": [
    "\n",
    "# Récupération et raccourcissement des categories juridiques du fichier SIREN\n",
    "# TODO: à vérifier le [:-3]\n",
    "decp_sirets_df['categorieJuridiqueUniteLegale'] = decp_sirets_df['categorieJuridiqueUniteLegale'].astype(str).str[:-3]\n",
    "\n",
    "# Récupération des libellés des catégories juridiques\n",
    "cj_df = pd.read_csv('cj.csv', index_col=None, dtype=\"object\")\n",
    "categorieJuridiqueUniteLegale = pd.merge(decp_sirets_df, cj_df, how='left', left_on='categorieJuridiqueUniteLegale', right_on='code')\n"
   ]
  },
  {
   "cell_type": "code",
   "execution_count": null,
   "metadata": {},
   "outputs": [],
   "source": [
    "# Jointure des DECP et des données SIRENE\n",
    "decp_selection_df = pd.read_csv('decp-selection.csv')\n",
    "siren_siret_df = pd.read_csv('siren-siret.csv')\n",
    "decp_titulaires_df = pd.merge(decp_selection_df, siren_siret_df, how='left', left_on='titulaire.id', right_on='siret')\n",
    "decp_titulaires_df = decp_titulaires_df[['id', 'uid', 'acheteur.id', 'acheteur.nom', 'nature', 'objet', 'codeCPV', 'lieuExecution.code', 'lieuExecution.typeCode', 'lieuExecution.nom', 'dureeMois', 'dateNotification', 'montant', 'titulaire.id', 'titulaire.typeIdentifiant', 'titulaire.denominationSociale', 'codeAPE', 'departement', 'categorie', 'categorieJuridique', 'categorieJuridiqueLibelle1', 'categorieJuridiqueLibelle2', 'etatEtablissement', 'etatAdministratifUniteLegale', 'longitude', 'latitude', 'donneesActuelles', 'anomalies']]\n",
    "decp_titulaires_df.to_csv('decp-titulaires.csv', index=False)\n"
   ]
  }
 ],
 "metadata": {
  "kernelspec": {
   "display_name": "decp-airflow-UlwaW0Oi",
   "language": "python",
   "name": "python3"
  },
  "language_info": {
   "codemirror_mode": {
    "name": "ipython",
    "version": 3
   },
   "file_extension": ".py",
   "mimetype": "text/x-python",
   "name": "python",
   "nbconvert_exporter": "python",
   "pygments_lexer": "ipython3",
   "version": "3.11.8"
  }
 },
 "nbformat": 4,
 "nbformat_minor": 2
}
