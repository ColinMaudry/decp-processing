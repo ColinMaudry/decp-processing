{
 "cells": [
  {
   "cell_type": "code",
   "execution_count": 1,
   "metadata": {},
   "outputs": [
    {
     "name": "stdout",
     "output_type": "stream",
     "text": [
      "/home/colin/git/decp-airflow\n"
     ]
    }
   ],
   "source": [
    "# *** INITIALISATION ***#\n",
    "\n",
    "import os\n",
    "from pathlib import Path\n",
    "from dotenv import load_dotenv\n",
    "import datetime\n",
    "\n",
    "load_dotenv()\n",
    "\n",
    "# Timestamp\n",
    "date_now = datetime.date.today().isoformat()\n",
    "datetime_now = datetime.datetime.now().isoformat()\n",
    "\n",
    "root_dir = os.path.abspath(os.curdir)\n",
    "print(root_dir)"
   ]
  },
  {
   "cell_type": "code",
   "execution_count": 2,
   "metadata": {},
   "outputs": [
    {
     "name": "stdout",
     "output_type": "stream",
     "text": [
      "DECP d'aujourd'hui déjà téléchargées\n"
     ]
    }
   ],
   "source": [
    "# *** TÉLÉCHARGEMENT ***#\n",
    "\n",
    "import pandas as pd\n",
    "from requests import get\n",
    "\n",
    "# decp_augmente_valides_file: Path = Path(f'data/decp_augmente_valides_{date_now}.csv')\n",
    "decp_augmente_valides_file: Path = Path(f\"data/decp_augmente_valides_2024-04-12.csv\")\n",
    "\n",
    "\n",
    "if not (os.path.exists(decp_augmente_valides_file)):\n",
    "    request = get(os.getenv(\"DECP_ENRICHIES_VALIDES_URL\"))\n",
    "    with open(decp_augmente_valides_file, \"wb\") as file:\n",
    "        file.write(request.content)\n",
    "else:\n",
    "    print(\"DECP d'aujourd'hui déjà téléchargées\")\n",
    "\n",
    "df: pd.DataFrame = pd.read_csv(\n",
    "    decp_augmente_valides_file, sep=\";\", dtype=\"object\", index_col=None\n",
    ")"
   ]
  },
  {
   "cell_type": "code",
   "execution_count": 3,
   "metadata": {},
   "outputs": [],
   "source": [
    "# *** ANALYSE DE BASE ***#\n",
    "\n",
    "# df.info(verbose=True)\n",
    "# obsolete number of rows 994123\n",
    "# valid number of rows 837115"
   ]
  },
  {
   "cell_type": "code",
   "execution_count": 4,
   "metadata": {},
   "outputs": [],
   "source": [
    "from numpy import NaN\n",
    "\n",
    "df.replace([NaN, None], \"\", inplace=True, regex=False)\n",
    "# df[['id', 'datePublicationDonnees']].loc[df['datePublicationDonnees'].str.contains(\"September\")]"
   ]
  },
  {
   "cell_type": "code",
   "execution_count": 5,
   "metadata": {},
   "outputs": [],
   "source": [
    "# *** REDRESSEMENT ***#\n",
    "\n",
    "# Dates\n",
    "\n",
    "columns_date = [\"datePublicationDonnees\", \"dateNotification\"]\n",
    "\n",
    "date_replacements = {\n",
    "    # ID marché invalide et SIRET de l'acheteur\n",
    "    \"0002-11-30\": \"\",\n",
    "    \"September, 16 2021 00:00:00\": \"2021-09-16\",  # 20007695800012 19830766200017 (plein !)\n",
    "    \"16 2021 00:00:00\": \"\",\n",
    "    \"0222-04-29\": \"2022-04-29\",  # 202201L0100\n",
    "    \"0021-12-05\": \"2022-12-05\",  # 20222022/1400\n",
    "    \"0001-06-21\": \"\",  # 0000000000000000 21850109600018\n",
    "    \"0019-10-18\": \"\",  # 0000000000000000 34857909500012\n",
    "    \"5021-02-18\": \"2021-02-18\",  # 20213051200 21590015000016\n",
    "    \"2921-11-19\": \"\",  # 20220057201 20005226400013\n",
    "    \"0022-04-29\": \"2022-04-29\",  # 2022AOO-GASL0100 25640454200035\n",
    "}\n",
    "\n",
    "for col in columns_date:\n",
    "    df[col] = df[col].replace(date_replacements, regex=False)\n",
    "\n",
    "\n",
    "# Nombres\n",
    "\n",
    "df[\"dureeMois\"] = df[\"dureeMois\"].replace(\"\", NaN)\n",
    "df[\"montant\"] = df[\"montant\"].replace(\"\", NaN)\n",
    "\n",
    "# Identifiants de marchés\n",
    "\n",
    "id_replacements = {\"[,\\./]\": \"_\"}\n",
    "\n",
    "df[\"id\"] = df[\"id\"].replace(id_replacements, regex=True)\n",
    "\n",
    "# Nature\n",
    "\n",
    "nature_replacements = {\"Marche\": \"Marché\", \"subsequent\": \"subséquent\"}\n",
    "\n",
    "df[\"nature\"] = df[\"nature\"].str.capitalize()\n",
    "df[\"nature\"] = df[\"nature\"].replace(nature_replacements, regex=True)\n",
    "\n",
    "# Nom de l'acheteur\n",
    "\n",
    "df[\"acheteur.nom\"] = \"manquant\""
   ]
  },
  {
   "cell_type": "code",
   "execution_count": 6,
   "metadata": {},
   "outputs": [],
   "source": [
    "# ***  TYPES DE DONNÉES ***#\n",
    "\n",
    "numeric_dtypes = {\n",
    "    \"dureeMois\": \"Int64\",  # contrairement à int64, Int64 autorise les valeurs nulles https://pandas.pydata.org/docs/user_guide/integer_na.html\n",
    "    \"montant\": \"float64\",\n",
    "}\n",
    "\n",
    "for column in numeric_dtypes:\n",
    "    df[column] = df[column].astype(numeric_dtypes[column])\n",
    "\n",
    "\n",
    "date_dtypes = [\"datePublicationDonnees\", \"dateNotification\"]\n",
    "\n",
    "for column in date_dtypes:\n",
    "    df[column] = pd.to_datetime(df[column], format=\"mixed\", dayfirst=True)"
   ]
  },
  {
   "cell_type": "code",
   "execution_count": 7,
   "metadata": {},
   "outputs": [
    {
     "name": "stdout",
     "output_type": "stream",
     "text": [
      "\n",
      "# megalis-bretagne\n",
      "Nombre de marchés : 21728\n",
      "Nombre d'acheteurs uniques : 707\n",
      "\n",
      "\n",
      "# data.gouv.fr_pes\n",
      "Nombre de marchés : 279345\n",
      "Nombre d'acheteurs uniques : 10298\n",
      "\n",
      "\n",
      "# e-marchespublics\n",
      "Nombre de marchés : 75614\n",
      "Nombre d'acheteurs uniques : 1630\n",
      "\n",
      "\n",
      "# data.gouv.fr_aife\n",
      "Nombre de marchés : 255022\n",
      "Nombre d'acheteurs uniques : 3422\n",
      "\n",
      "\n",
      "# decp_aws\n",
      "Nombre de marchés : 125312\n",
      "Nombre d'acheteurs uniques : 3759\n",
      "\n",
      "\n",
      "# marches-publics.info\n",
      "Nombre de marchés : 71327\n",
      "Nombre d'acheteurs uniques : 4787\n",
      "\n",
      "\n",
      "# ternum-bfc\n",
      "Nombre de marchés : 8747\n",
      "Nombre d'acheteurs uniques : 385\n",
      "\n",
      "\n",
      "# \n",
      "Nombre de marchés : 40\n",
      "Nombre d'acheteurs uniques : 1\n",
      "\n"
     ]
    }
   ],
   "source": [
    "# ***  ANALYSES AVANCÉES ***#\n",
    "\n",
    "# Les sources d'où proviennent les données\n",
    "sources = df[\"source\"].unique()\n",
    "\n",
    "for source in sources:\n",
    "    print(\n",
    "        f\"\"\"\n",
    "# {source}\n",
    "Nombre de marchés : {df[[\"source\"]].loc[df[\"source\"]==source].index.size}\n",
    "Nombre d'acheteurs uniques : {len(df[[\"acheteur.id\", \"source\"]].loc[df[\"source\"]==source]['acheteur.id'].unique())}\n",
    "\"\"\"\n",
    "    )"
   ]
  },
  {
   "cell_type": "code",
   "execution_count": 8,
   "metadata": {},
   "outputs": [],
   "source": [
    "# VERS LE FORMAT DECP-TABLE-SCHEMA #\n",
    "\n",
    "# Explosion des champs titulaires sur plusieurs lignes\n",
    "\n",
    "df[\"titulaire.id\"] = [[] for r in range(len(df))]\n",
    "df[\"titulaire.denominationSociale\"] = [[] for r in range(len(df))]\n",
    "df[\"titulaire.typeIdentifiant\"] = [[] for r in range(len(df))]\n",
    "\n",
    "for num in range(1, 4):\n",
    "    mask = df[f\"titulaire_id_{num}\"] != \"\"\n",
    "    df.loc[mask, \"titulaire.id\"] += df.loc[mask, f\"titulaire_id_{num}\"].apply(\n",
    "        lambda x: [x]\n",
    "    )\n",
    "    df.loc[mask, \"titulaire.denominationSociale\"] += df.loc[\n",
    "        mask, f\"titulaire_denominationSociale_{num}\"\n",
    "    ].apply(lambda x: [x])\n",
    "    df.loc[mask, \"titulaire.typeIdentifiant\"] += df.loc[\n",
    "        mask, f\"titulaire_typeIdentifiant_{num}\"\n",
    "    ].apply(lambda x: [x])\n",
    "\n",
    "df = df.explode(\n",
    "    [\"titulaire.id\", \"titulaire.denominationSociale\", \"titulaire.typeIdentifiant\"],\n",
    "    ignore_index=True,\n",
    ")"
   ]
  },
  {
   "cell_type": "code",
   "execution_count": 9,
   "metadata": {},
   "outputs": [],
   "source": [
    "# Ajout colonnes manquantes\n",
    "\n",
    "df[\"uid\"] = df[\"acheteur.id\"] + df[\"id\"]\n",
    "df[\"donneesActuelles\"] = \"\"  # TODO\n",
    "df[\"anomalies\"] = \"\"  # TODO"
   ]
  },
  {
   "cell_type": "code",
   "execution_count": 10,
   "metadata": {},
   "outputs": [],
   "source": [
    "# *** ENREGISTREMENT AU FORMAT CSV ET PARQUET ***#\n",
    "\n",
    "import shutil\n",
    "\n",
    "distdir = Path(\"./dist\")\n",
    "if os.path.exists(distdir):\n",
    "    shutil.rmtree(\"dist\")\n",
    "os.mkdir(\"dist\")\n",
    "os.chdir(distdir)\n",
    "\n",
    "# CSV\n",
    "\n",
    "# Schéma cible\n",
    "df_standard = pd.read_csv(\n",
    "    \"https://raw.githubusercontent.com/ColinMaudry/decp-table-schema/main/exemples/exemple-valide.csv\",\n",
    "    index_col=None,\n",
    ")\n",
    "\n",
    "cible_colonnes = df_standard.columns\n",
    "df = df[cible_colonnes]\n",
    "df.to_csv(\"decp.csv\", index=None)\n",
    "df.to_parquet(\"decp.parquet\", index=None)\n",
    "\n",
    "\n",
    "# Sans titulaires (1 ligne par marché)\n",
    "df_sans_titulaires = df.drop(\n",
    "    columns=[\n",
    "        \"titulaire.id\",\n",
    "        \"titulaire.denominationSociale\",\n",
    "        \"titulaire.typeIdentifiant\",\n",
    "    ]\n",
    ")\n",
    "df_sans_titulaires = df_sans_titulaires.drop_duplicates(ignore_index=True)\n",
    "df_sans_titulaires.to_csv(\"decp-sans-titulaires.csv\", index=None)\n",
    "df_sans_titulaires.to_parquet(\"decp-sans-titulaires.parquet\", index=None)"
   ]
  },
  {
   "cell_type": "code",
   "execution_count": 11,
   "metadata": {},
   "outputs": [
    {
     "data": {
      "text/plain": [
       "12"
      ]
     },
     "execution_count": 11,
     "metadata": {},
     "output_type": "execute_result"
    }
   ],
   "source": [
    "# VALIDATION #\n",
    "\n",
    "from tableschema import Table, CastError\n",
    "from pprint import pprint\n",
    "\n",
    "table = Table(\n",
    "    \"decp.csv\",\n",
    "    schema=\"https://raw.githubusercontent.com/ColinMaudry/decp-table-schema/main/schema.json\",\n",
    ")\n",
    "\n",
    "errors = []\n",
    "\n",
    "\n",
    "def exc_handler(exc, row_number=None, error_data=None):\n",
    "    errors.append((exc.errors, f\"row {row_number}\", error_data))\n",
    "\n",
    "\n",
    "table.read(limit=50, exc_handler=exc_handler)\n",
    "pprint(errors)"
   ]
  },
  {
   "cell_type": "code",
   "execution_count": 12,
   "metadata": {},
   "outputs": [
    {
     "data": {
      "text/plain": [
       "[([tableschema.exceptions.CastError('Field \"lieuExecution.typeCode\" has constraint \"enum\" which is not satisfied for value \"CODE DEPARTEMENT\"')],\n",
       "  'row 7',\n",
       "  OrderedDict()),\n",
       " ([tableschema.exceptions.CastError('Field \"procedure\" has constraint \"enum\" which is not satisfied for value \"Marché public négocié sans publicité ni mise en concurrence préalable\"'),\n",
       "   tableschema.exceptions.CastError('Field \"lieuExecution.typeCode\" has constraint \"enum\" which is not satisfied for value \"CODE DEPARTEMENT\"')],\n",
       "  'row 17',\n",
       "  OrderedDict([('procedure',\n",
       "                'Marché public négocié sans publicité ni mise en concurrence préalable')])),\n",
       " ([tableschema.exceptions.CastError('Field \"lieuExecution.typeCode\" has constraint \"enum\" which is not satisfied for value \"CODE DEPARTEMENT\"')],\n",
       "  'row 18',\n",
       "  OrderedDict()),\n",
       " ([tableschema.exceptions.CastError('Field \"lieuExecution.typeCode\" has constraint \"enum\" which is not satisfied for value \"CODE DEPARTEMENT\"')],\n",
       "  'row 19',\n",
       "  OrderedDict()),\n",
       " ([tableschema.exceptions.CastError('Field \"lieuExecution.typeCode\" has constraint \"enum\" which is not satisfied for value \"CODE DEPARTEMENT\"')],\n",
       "  'row 21',\n",
       "  OrderedDict()),\n",
       " ([tableschema.exceptions.CastError('Field \"lieuExecution.typeCode\" has constraint \"enum\" which is not satisfied for value \"CODE DEPARTEMENT\"')],\n",
       "  'row 25',\n",
       "  OrderedDict()),\n",
       " ([tableschema.exceptions.CastError('Field \"titulaire.id\" has constraint \"required\" which is not satisfied for value \"None\"'),\n",
       "   tableschema.exceptions.CastError('Field \"titulaire.typeIdentifiant\" has constraint \"required\" which is not satisfied for value \"None\"'),\n",
       "   tableschema.exceptions.CastError('Field \"titulaire.denominationSociale\" has constraint \"required\" which is not satisfied for value \"None\"')],\n",
       "  'row 29',\n",
       "  OrderedDict([('titulaire.id', ''), ('titulaire.typeIdentifiant', '')])),\n",
       " ([tableschema.exceptions.CastError('Field \"lieuExecution.typeCode\" has constraint \"enum\" which is not satisfied for value \"CODE DEPARTEMENT\"')],\n",
       "  'row 30',\n",
       "  OrderedDict()),\n",
       " ([tableschema.exceptions.CastError('Field \"procedure\" has constraint \"enum\" which is not satisfied for value \"Marché public négocié sans publicité ni mise en concurrence préalable\"'),\n",
       "   tableschema.exceptions.CastError('Field \"lieuExecution.typeCode\" has constraint \"enum\" which is not satisfied for value \"CODE DEPARTEMENT\"')],\n",
       "  'row 32',\n",
       "  OrderedDict([('procedure',\n",
       "                'Marché public négocié sans publicité ni mise en concurrence préalable')])),\n",
       " ([tableschema.exceptions.CastError('Field \"lieuExecution.typeCode\" has constraint \"enum\" which is not satisfied for value \"CODE DEPARTEMENT\"')],\n",
       "  'row 36',\n",
       "  OrderedDict()),\n",
       " ([tableschema.exceptions.CastError('Field \"lieuExecution.typeCode\" has constraint \"enum\" which is not satisfied for value \"CODE DEPARTEMENT\"')],\n",
       "  'row 38',\n",
       "  OrderedDict()),\n",
       " ([tableschema.exceptions.CastError('Field \"lieuExecution.typeCode\" has constraint \"enum\" which is not satisfied for value \"CODE DEPARTEMENT\"'),\n",
       "   tableschema.exceptions.CastError('Field \"titulaire.id\" has constraint \"required\" which is not satisfied for value \"None\"'),\n",
       "   tableschema.exceptions.CastError('Field \"titulaire.typeIdentifiant\" has constraint \"required\" which is not satisfied for value \"None\"'),\n",
       "   tableschema.exceptions.CastError('Field \"titulaire.denominationSociale\" has constraint \"required\" which is not satisfied for value \"None\"')],\n",
       "  'row 48',\n",
       "  OrderedDict([('lieuExecution.typeCode', 'CODE DEPARTEMENT'),\n",
       "               ('titulaire.id', ''),\n",
       "               ('titulaire.typeIdentifiant', '')]))]"
      ]
     },
     "execution_count": 12,
     "metadata": {},
     "output_type": "execute_result"
    }
   ],
   "source": [
    "errors"
   ]
  }
 ],
 "metadata": {
  "kernelspec": {
   "display_name": "decp-airflow-UlwaW0Oi",
   "language": "python",
   "name": "python3"
  },
  "language_info": {
   "codemirror_mode": {
    "name": "ipython",
    "version": 3
   },
   "file_extension": ".py",
   "mimetype": "text/x-python",
   "name": "python",
   "nbconvert_exporter": "python",
   "pygments_lexer": "ipython3",
   "version": "3.10.12"
  }
 },
 "nbformat": 4,
 "nbformat_minor": 2
}
