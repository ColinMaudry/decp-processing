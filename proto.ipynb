{
 "cells": [
  {
   "cell_type": "code",
   "execution_count": 1,
   "metadata": {},
   "outputs": [],
   "source": [
    "#*** INITIALISATION ***#\n",
    "\n",
    "import os\n",
    "from pathlib import Path\n",
    "from dotenv import load_dotenv\n",
    "import datetime\n",
    "\n",
    "load_dotenv()\n",
    "\n",
    "\n",
    "# Création d'un dossier temporaire vide\n",
    "\n",
    "tmp_dir: Path=Path(os.getenv('TMP_DIR'))\n",
    "\n",
    "if os.path.isdir(tmp_dir):\n",
    "    os.removedirs(tmp_dir)\n",
    "\n",
    "os.mkdir(tmp_dir)\n",
    "\n",
    "\n",
    "# Timestamp\n",
    "date_now = datetime.date.today().isoformat()\n",
    "datetime_now = datetime.datetime.now().isoformat()"
   ]
  },
  {
   "cell_type": "code",
   "execution_count": 2,
   "metadata": {},
   "outputs": [],
   "source": [
    "#*** TABLEAU DE BORD DASK ***#\n",
    "\n",
    "# from dask.distributed import Client\n",
    "\n",
    "# client = Client(n_workers=4, threads_per_worker=2, memory_limit=\"5GB\")\n",
    "# client\n",
    "#\n",
    "# \"Dask needs bokeh!=3.0.*,>=2.4.2 for the dashboard.\", mais bokeh 3.4.0 est installé. Bizarre."
   ]
  },
  {
   "cell_type": "code",
   "execution_count": 3,
   "metadata": {},
   "outputs": [
    {
     "name": "stdout",
     "output_type": "stream",
     "text": [
      "DECP d'aujourd'hui déjà téléchargées\n"
     ]
    }
   ],
   "source": [
    "#*** TÉLÉCHARGEMENT ***#\n",
    "\n",
    "import numpy\n",
    "import dask.dataframe as dd\n",
    "import pandas as pd\n",
    "\n",
    "\n",
    "decp_enrichies_file: Path = Path(f'data/decp_enrichies_{date_now}.parquet')\n",
    "\n",
    "\n",
    "if not(os.path.exists(decp_enrichies_file)):\n",
    "    df_decp: pd.DataFrame = pd.read_csv(os.getenv('DECP_ENRICHIES_URL'), sep=\";\", dtype='object')\n",
    "    df_decp.replace([numpy.Nan, None], \"\", inplace=True, regex=False)\n",
    "    df_decp.to_parquet(decp_enrichies_file)\n",
    "else:\n",
    "    df_decp: pd.DataFrame = pd.read_parquet(decp_enrichies_file)\n",
    "    print(\"DECP d'aujourd'hui déjà téléchargées\")\n"
   ]
  },
  {
   "cell_type": "code",
   "execution_count": 4,
   "metadata": {},
   "outputs": [],
   "source": [
    "#*** ANALYSE DE BASE ***#\n",
    "\n",
    "# df_decp.info(verbose=True)"
   ]
  },
  {
   "cell_type": "code",
   "execution_count": 5,
   "metadata": {},
   "outputs": [],
   "source": [
    "#*** REDRESSEMENT ***#\n",
    "\n",
    "columns_date = [\"datePublicationDonnees\", \"dateNotification\"]\n",
    "\n",
    "date_replacements = {\n",
    "    \"2921\": \"2021\",\n",
    "    \"0002-11-30\": \"\",\n",
    "    \"September,\": \"\",\n",
    "    \"2980-11-22\": \"\",\n",
    "    \"29\\-02\\-2021\": \"\",\n",
    "    \"0222-04-29\": \"\", # \n",
    "    \"2921-11-19\": \"\",\n",
    "    \"2920-06-01\": \"\", # 2021.01LOT600 21590309700016\n",
    "    \"0021-12-05\": \"\",\n",
    "    \"0001-06-21\": \"\",\n",
    "    \"5021-02-18\": \"\",\n",
    "    \"0019-10-18\": \"\",\n",
    "    \"/\": \"-\"\n",
    "}\n",
    "\n",
    "\n",
    "for col in columns_date:\n",
    "    df_decp[col] = df_decp[col].replace(date_replacements, regex=True)"
   ]
  },
  {
   "cell_type": "code",
   "execution_count": 9,
   "metadata": {},
   "outputs": [
    {
     "data": {
      "text/plain": [
       "id                                                                      20222022/1400\n",
       "source                                                                    PES Marchés\n",
       "natureObjetMarche                                                             Travaux\n",
       "objetMarche                         Electricite courants forts et faibles alarme i...\n",
       "codeCPV                                                                    45454000-4\n",
       "codeCPV_division                                                                   45\n",
       "referenceCPV                                               Travaux de restructuration\n",
       "dateNotification                                                  2022-04-08 00:00:00\n",
       "anneeNotification                                                                2022\n",
       "datePublicationDonnees                                                            NaT\n",
       "dureeMois                                                                          16\n",
       "montant                                                                       85833.0\n",
       "formePrix                                                                   Révisable\n",
       "lieuExecutionCode                                                               03260\n",
       "lieuExecutionTypeCode                                                     CODE POSTAL\n",
       "lieuExecutionNom                                             Saint-Germain-des-Fosses\n",
       "codeDepartementExecution                                                           03\n",
       "nature                                                                         MARCHE\n",
       "procedure                                                           Procédure adaptée\n",
       "idAcheteur                                                             21030236000016\n",
       "nomAcheteur                                       COMMUNE DE SAINT GERMAIN DES FOSSES\n",
       "codePostalAcheteur                                                              03260\n",
       "libelleCommuneAcheteur                                       SAINT-GERMAIN-DES-FOSSES\n",
       "codeCommuneAcheteur                                                             03236\n",
       "typeIdentifiantEtablissement                                                    SIRET\n",
       "siretEtablissement                                                     41155598000027\n",
       "denominationUniteLegale                                               SARL KOLASINSKI\n",
       "denominationSocialeEtablissement                                      SARL KOLASINSKI\n",
       "codePostalEtablissement                                                         03270\n",
       "communeEtablissement                                                      SAINT-YORRE\n",
       "codeTypeEtablissement                                                           4321A\n",
       "typeIdentifiant_cotitulaire1                                                     None\n",
       "id_cotitulaire1                                                                  None\n",
       "denominationSociale_cotitulaire1                                                 None\n",
       "typeIdentifiant_cotitulaire2                                                     None\n",
       "id_cotitulaire2                                                                  None\n",
       "denominationSociale_cotitulaire2                                                 None\n",
       "typeIdentifiant_cotitulaire3                                                     None\n",
       "id_cotitulaire3                                                                  None\n",
       "denominationSociale_cotitulaire3                                                 None\n",
       "Name: 301707, dtype: object"
      ]
     },
     "execution_count": 9,
     "metadata": {},
     "output_type": "execute_result"
    }
   ],
   "source": [
    "\n",
    "# df_decp[\"datePublicationDonnees\"].loc[df_decp[\"datePublicationDonnees\"] == '2921-11-19']\n",
    "# df_decp.loc[301707]\n"
   ]
  },
  {
   "cell_type": "code",
   "execution_count": 7,
   "metadata": {},
   "outputs": [
    {
     "name": "stdout",
     "output_type": "stream",
     "text": [
      "<class 'pandas.core.frame.DataFrame'>\n",
      "RangeIndex: 994123 entries, 0 to 994122\n",
      "Data columns (total 40 columns):\n",
      " #   Column                            Non-Null Count   Dtype         \n",
      "---  ------                            --------------   -----         \n",
      " 0   id                                994123 non-null  object        \n",
      " 1   source                            993724 non-null  object        \n",
      " 2   natureObjetMarche                 994123 non-null  object        \n",
      " 3   objetMarche                       994123 non-null  object        \n",
      " 4   codeCPV                           977345 non-null  object        \n",
      " 5   codeCPV_division                  994123 non-null  object        \n",
      " 6   referenceCPV                      977345 non-null  object        \n",
      " 7   dateNotification                  989346 non-null  datetime64[ns]\n",
      " 8   anneeNotification                 989346 non-null  object        \n",
      " 9   datePublicationDonnees            987186 non-null  datetime64[ns]\n",
      " 10  dureeMois                         994123 non-null  int64         \n",
      " 11  montant                           989682 non-null  float64       \n",
      " 12  formePrix                         975283 non-null  object        \n",
      " 13  lieuExecutionCode                 993413 non-null  object        \n",
      " 14  lieuExecutionTypeCode             993139 non-null  object        \n",
      " 15  lieuExecutionNom                  993477 non-null  object        \n",
      " 16  codeDepartementExecution          961034 non-null  object        \n",
      " 17  nature                            990399 non-null  object        \n",
      " 18  procedure                         966672 non-null  object        \n",
      " 19  idAcheteur                        992727 non-null  object        \n",
      " 20  nomAcheteur                       992647 non-null  object        \n",
      " 21  codePostalAcheteur                994123 non-null  object        \n",
      " 22  libelleCommuneAcheteur            939901 non-null  object        \n",
      " 23  codeCommuneAcheteur               939901 non-null  object        \n",
      " 24  typeIdentifiantEtablissement      983184 non-null  object        \n",
      " 25  siretEtablissement                984340 non-null  object        \n",
      " 26  denominationUniteLegale           984479 non-null  object        \n",
      " 27  denominationSocialeEtablissement  966274 non-null  object        \n",
      " 28  codePostalEtablissement           966274 non-null  object        \n",
      " 29  communeEtablissement              965255 non-null  object        \n",
      " 30  codeTypeEtablissement             966274 non-null  object        \n",
      " 31  typeIdentifiant_cotitulaire1      58508 non-null   object        \n",
      " 32  id_cotitulaire1                   58507 non-null   object        \n",
      " 33  denominationSociale_cotitulaire1  58523 non-null   object        \n",
      " 34  typeIdentifiant_cotitulaire2      28404 non-null   object        \n",
      " 35  id_cotitulaire2                   28404 non-null   object        \n",
      " 36  denominationSociale_cotitulaire2  28410 non-null   object        \n",
      " 37  typeIdentifiant_cotitulaire3      13480 non-null   object        \n",
      " 38  id_cotitulaire3                   13480 non-null   object        \n",
      " 39  denominationSociale_cotitulaire3  13488 non-null   object        \n",
      "dtypes: datetime64[ns](2), float64(1), int64(1), object(36)\n",
      "memory usage: 303.4+ MB\n"
     ]
    }
   ],
   "source": [
    "#***  TYPES DE DONNÉES ***#\n",
    "\n",
    "numeric_dtypes = {\n",
    "    \"dureeMois\": \"int64\",\n",
    "    \"montant\": \"float64\"\n",
    "}\n",
    "\n",
    "for column in numeric_dtypes.keys():\n",
    "    df_decp[column] = pd.to_numeric(df_decp[column])\n",
    "\n",
    "\n",
    "date_dtypes = {\n",
    "    \"datePublicationDonnees\": \"date\",\n",
    "    \"dateNotification\": \"date\"\n",
    "}\n",
    "\n",
    "for column in date_dtypes.keys():\n",
    "    df_decp[column] = pd.to_datetime(df_decp[column], format='mixed', dayfirst=True)\n",
    "\n",
    "\n",
    "df_decp.info(verbose=True)"
   ]
  },
  {
   "cell_type": "code",
   "execution_count": null,
   "metadata": {},
   "outputs": [],
   "source": []
  }
 ],
 "metadata": {
  "kernelspec": {
   "display_name": "decp-airflow-UlwaW0Oi",
   "language": "python",
   "name": "python3"
  },
  "language_info": {
   "codemirror_mode": {
    "name": "ipython",
    "version": 3
   },
   "file_extension": ".py",
   "mimetype": "text/x-python",
   "name": "python",
   "nbconvert_exporter": "python",
   "pygments_lexer": "ipython3",
   "version": "3.11.8"
  }
 },
 "nbformat": 4,
 "nbformat_minor": 2
}
