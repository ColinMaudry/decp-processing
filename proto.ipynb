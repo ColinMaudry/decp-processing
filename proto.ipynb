{
 "cells": [
  {
   "cell_type": "code",
   "execution_count": null,
   "metadata": {},
   "outputs": [],
   "source": [
    "#*** INITIALISATION ***#\n",
    "\n",
    "import os\n",
    "from pathlib import Path\n",
    "from dotenv import load_dotenv\n",
    "import datetime\n",
    "\n",
    "load_dotenv()\n",
    "\n",
    "# Timestamp\n",
    "date_now = datetime.date.today().isoformat()\n",
    "datetime_now = datetime.datetime.now().isoformat()"
   ]
  },
  {
   "cell_type": "code",
   "execution_count": null,
   "metadata": {},
   "outputs": [],
   "source": [
    "#*** TÉLÉCHARGEMENT ***#\n",
    "\n",
    "import pandas as pd\n",
    "from requests import get\n",
    "\n",
    "# decp_augmente_valides_file: Path = Path(f'data/decp_augmente_valides_{date_now}.csv')\n",
    "decp_augmente_valides_file: Path = Path(f'data/decp_augmente_valides_2024-04-12.csv')\n",
    "\n",
    "\n",
    "if not(os.path.exists(decp_augmente_valides_file)):\n",
    "    request = get(os.getenv('DECP_ENRICHIES_VALIDES_URL'))\n",
    "    with open(decp_augmente_valides_file, 'wb') as file:\n",
    "        file.write(request.content)\n",
    "else:\n",
    "    print(\"DECP d'aujourd'hui déjà téléchargées\")\n",
    "\n",
    "df: pd.DataFrame = pd.read_csv(decp_augmente_valides_file, sep=\";\", dtype='object', index_col=None)   \n"
   ]
  },
  {
   "cell_type": "code",
   "execution_count": null,
   "metadata": {},
   "outputs": [],
   "source": [
    "#*** ANALYSE DE BASE ***#\n",
    "\n",
    "df.info(verbose=True)\n",
    "# obsolete number of rows 994123\n",
    "# valid number of rows 837115"
   ]
  },
  {
   "cell_type": "code",
   "execution_count": null,
   "metadata": {},
   "outputs": [],
   "source": [
    "from numpy import NaN\n",
    "\n",
    "df.replace([NaN, None], \"\", inplace=True, regex=False)\n",
    "# df[['id', 'datePublicationDonnees']].loc[df['datePublicationDonnees'].str.contains(\"September\")]"
   ]
  },
  {
   "cell_type": "code",
   "execution_count": null,
   "metadata": {},
   "outputs": [],
   "source": [
    "import numpy\n",
    "\n",
    "#*** REDRESSEMENT ***#\n",
    "\n",
    "# Dates\n",
    "\n",
    "columns_date = [\"datePublicationDonnees\", \"dateNotification\"]\n",
    "\n",
    "date_replacements = {\n",
    "    # ID marché invalide et SIRET de l'acheteur\n",
    "    \"0002-11-30\": \"\",\n",
    "    \"September, 16 2021 00:00:00\": \"2021-09-16\", #20007695800012 19830766200017 (plein !)\n",
    "    \"16 2021 00:00:00\": \"\",\n",
    "    \"0222-04-29\": \"2022-04-29\", # 202201L0100\n",
    "    \"0021-12-05\": \"2022-12-05\", # 20222022/1400\n",
    "    \"0001-06-21\": \"\", #0000000000000000 21850109600018\n",
    "    \"0019-10-18\": \"\", #0000000000000000 34857909500012\n",
    "    \"5021-02-18\": \"2021-02-18\", #20213051200 21590015000016   \n",
    "    \"2921-11-19\": \"\", # 20220057201 20005226400013\n",
    "    \"0022-04-29\": \"2022-04-29\", # 2022AOO-GASL0100 25640454200035   \n",
    "}\n",
    "\n",
    "for col in columns_date:\n",
    "    df[col] = df[col].replace(date_replacements, regex=False)\n",
    "\n",
    "\n",
    "# Nombres\n",
    "\n",
    "df['dureeMois'] = df['dureeMois'].replace('', NaN)\n",
    "df['montant'] = df['montant'].replace('', NaN)\n",
    "\n",
    "# Identifiants de marchés\n",
    "\n",
    "id_replacements = {\n",
    "    \"[,\\./]\": \"_\"\n",
    "}\n",
    "\n",
    "df[\"id\"] = df[\"id\"].replace(id_replacements, regex=True)\n",
    "\n",
    "\n"
   ]
  },
  {
   "cell_type": "code",
   "execution_count": null,
   "metadata": {},
   "outputs": [],
   "source": [
    "\n",
    "# df[\"datePublicationDonnees\"].loc[df[\"datePublicationDonnees\"] == '2921-11-19']\n",
    "# df[['id', 'acheteur.id', 'dateNotification', 'datePublicationDonnees']].loc[df['acheteur.nom'] == None]\n",
    "# df.loc[2067]"
   ]
  },
  {
   "cell_type": "code",
   "execution_count": null,
   "metadata": {},
   "outputs": [],
   "source": [
    "#***  TYPES DE DONNÉES ***#\n",
    "\n",
    "numeric_dtypes = {\n",
    "    \"dureeMois\": \"Int64\", # contrairement à int64, Int64 autorise les valeurs nulles https://pandas.pydata.org/docs/user_guide/integer_na.html\n",
    "    \"montant\": \"float64\"\n",
    "}\n",
    "\n",
    "for column in numeric_dtypes:\n",
    "    df[column] = df[column].astype(numeric_dtypes[column])\n",
    "\n",
    "\n",
    "date_dtypes = [\"datePublicationDonnees\", \"dateNotification\"]\n",
    "\n",
    "for column in date_dtypes:\n",
    "    df[column] = pd.to_datetime(df[column], format='mixed', dayfirst=True)\n",
    "\n",
    "\n",
    "df.info(verbose=True)"
   ]
  },
  {
   "cell_type": "code",
   "execution_count": null,
   "metadata": {},
   "outputs": [],
   "source": [
    "#***  ANALYSES AVANCÉES ***#\n",
    "\n",
    "# Les sources d'où proviennent les données\n",
    "sources = df[\"source\"].unique()\n",
    "\n",
    "for source in sources:\n",
    "    print(f\"\"\"\n",
    "# {source}\n",
    "Nombre de marchés : {df[[\"source\"]].loc[df[\"source\"]==source].index.size}\n",
    "Nombre d'acheteurs uniques : {len(df[[\"acheteur.id\", \"source\"]].loc[df[\"source\"]==source]['acheteur.id'].unique())}\n",
    "\"\"\")"
   ]
  },
  {
   "cell_type": "code",
   "execution_count": null,
   "metadata": {},
   "outputs": [],
   "source": [
    "# VERS LE FORMAT DECP-TABLE-SCHEMA #\n",
    "\n",
    "# Schéma cible\n",
    "df_standard = pd.read_csv(\"https://raw.githubusercontent.com/ColinMaudry/decp-table-schema/main/exemples/exemple-valide.csv\", index_col=None)\n",
    "df_standard.info()\n",
    "\n",
    "# Explosion des champs titulaires sur plusieurs lignes\n",
    "\n",
    "df['titulaire.id'] = df[['titulaire_id_1', 'titulaire_id_2', 'titulaire_id_3']].values.tolist()\n",
    "df['titulaire.denominationSociale'] = df[['titulaire_denominationSociale_1', 'titulaire_denominationSociale_2', 'titulaire_denominationSociale_3']].values.tolist()\n",
    "df['titulaire.typeIdentifiant'] = df[['titulaire_typeIdentifiant_1', 'titulaire_typeIdentifiant_2', 'titulaire_typeIdentifiant_3']].values.tolist()\n",
    "\n",
    "# TODO: améliorer l'explosion des titulaires pour supprimer les titulaires vides (probablement avec une boucle iterrows)\n",
    "\n",
    "df = df.explode(['titulaire.id', 'titulaire.denominationSociale','titulaire.typeIdentifiant']).reset_index()"
   ]
  },
  {
   "cell_type": "code",
   "execution_count": null,
   "metadata": {},
   "outputs": [],
   "source": [
    "# Ajout colonnes manquantes\n",
    "\n",
    "df['uid'] = df['acheteur.id'] + df['id']\n",
    "df['donneesActuelles'] = \"\"\n",
    "df['anomalies'] = \"\"\n",
    "\n",
    "df.info()\n"
   ]
  },
  {
   "cell_type": "code",
   "execution_count": null,
   "metadata": {},
   "outputs": [],
   "source": [
    "#*** ENREGISTREMENT AU FORMAT CSV ***#\n",
    "\n",
    "cible_colonnes = df_standard.columns\n",
    "df = df[cible_colonnes]\n",
    "# df_sans_titulaires = df.drop(columns=['titulaire.id', 'titulaire.denominationSociale', 'titulaire.typeIdentifiant'])\n",
    "\n",
    "df.to_csv('decp.csv', index=None)\n",
    "# df_sans_titulaires.to_csv('decp-sans-titulaires.csv', index=None)"
   ]
  },
  {
   "cell_type": "code",
   "execution_count": null,
   "metadata": {},
   "outputs": [],
   "source": [
    "# VALIDATION #\n",
    "\n",
    "from tableschema import Table, CastError\n",
    "\n",
    "table = Table('decp.csv', schema='https://raw.githubusercontent.com/ColinMaudry/decp-table-schema/main/schema.json')\n",
    "try:\n",
    "    table.read(limit=10)\n",
    "except CastError as exception:\n",
    "    print(exception.errors)"
   ]
  },
  {
   "cell_type": "code",
   "execution_count": null,
   "metadata": {},
   "outputs": [],
   "source": [
    "df[['id', 'acheteur.id', 'dateNotification', 'datePublicationDonnees']].loc[df['acheteur.nom'] == \"\"]\n"
   ]
  }
 ],
 "metadata": {
  "kernelspec": {
   "display_name": "decp-airflow-UlwaW0Oi",
   "language": "python",
   "name": "python3"
  },
  "language_info": {
   "codemirror_mode": {
    "name": "ipython",
    "version": 3
   },
   "file_extension": ".py",
   "mimetype": "text/x-python",
   "name": "python",
   "nbconvert_exporter": "python",
   "pygments_lexer": "ipython3",
   "version": "3.11.8"
  }
 },
 "nbformat": 4,
 "nbformat_minor": 2
}
